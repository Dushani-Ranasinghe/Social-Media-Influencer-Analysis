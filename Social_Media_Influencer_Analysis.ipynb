{
  "nbformat": 4,
  "nbformat_minor": 0,
  "metadata": {
    "colab": {
      "provenance": [],
      "authorship_tag": "ABX9TyMTIPKsuCELJ4PedBeZ2i3o",
      "include_colab_link": true
    },
    "kernelspec": {
      "name": "python3",
      "display_name": "Python 3"
    },
    "language_info": {
      "name": "python"
    }
  },
  "cells": [
    {
      "cell_type": "markdown",
      "metadata": {
        "id": "view-in-github",
        "colab_type": "text"
      },
      "source": [
        "<a href=\"https://colab.research.google.com/github/Dushani-Ranasinghe/Social-Media-Influencer-Analysis/blob/main/Social_Media_Influencer_Analysis.ipynb\" target=\"_parent\"><img src=\"https://colab.research.google.com/assets/colab-badge.svg\" alt=\"Open In Colab\"/></a>"
      ]
    },
    {
      "cell_type": "markdown",
      "source": [
        "**Objective:** Identify key factors that contribute to an influencer's success on a specific platform (e.g., Instagram, TikTok).\n",
        "\n",
        "**Data Collection:** Scrape data from influencer profiles (follower count,\n",
        "engagement rates, post frequency, content type, hashtags, etc.).\n",
        "\n",
        "**Data Cleaning:** Handle missing values, inconsistencies, and outliers in the collected data.\n",
        "\n",
        " **Exploratory Data Analysis (EDA):** Analyze the relationship between various factors and influencer popularity. Visualize findings using appropriate charts.\n",
        "\n",
        "**Predictive Modeling:** Build a model to predict an influencer's potential reach or engagement based on available features."
      ],
      "metadata": {
        "id": "fCBXQHadEERs"
      }
    },
    {
      "cell_type": "code",
      "execution_count": 1,
      "metadata": {
        "colab": {
          "base_uri": "https://localhost:8080/"
        },
        "id": "eLW63mJOD9ve",
        "outputId": "1258ee03-3f21-4779-95a1-7f517328b351"
      },
      "outputs": [
        {
          "output_type": "stream",
          "name": "stdout",
          "text": [
            "Cloning into 'Social-Media-Influencer-Analysis'...\n",
            "remote: Enumerating objects: 3, done.\u001b[K\n",
            "remote: Counting objects: 100% (3/3), done.\u001b[K\n",
            "remote: Total 3 (delta 0), reused 0 (delta 0), pack-reused 0\u001b[K\n",
            "Receiving objects: 100% (3/3), done.\n"
          ]
        }
      ],
      "source": [
        "!git clone https://github.com/Dushani-Ranasinghe/Social-Media-Influencer-Analysis.git"
      ]
    },
    {
      "cell_type": "code",
      "source": [
        "import pandas as pd\n",
        "import numpy as np\n",
        "import matplotlib.pyplot as plt\n",
        "import seaborn as sns"
      ],
      "metadata": {
        "id": "0OHIW6o2FNr4"
      },
      "execution_count": 2,
      "outputs": []
    }
  ]
}